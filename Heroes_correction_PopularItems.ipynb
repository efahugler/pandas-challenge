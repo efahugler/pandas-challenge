{
 "cells": [
  {
   "cell_type": "code",
   "execution_count": 8,
   "metadata": {},
   "outputs": [],
   "source": [
    "import pandas as pd \n",
    "import numpy as np \n",
    "\n",
    "file = \"../Downloads/purchase_data.csv\"\n",
    "\n",
    "purchase_data_df = pd.read_csv (file)\n"
   ]
  },
  {
   "cell_type": "code",
   "execution_count": 9,
   "metadata": {
    "scrolled": true
   },
   "outputs": [
    {
     "data": {
      "text/html": [
       "<div>\n",
       "<style scoped>\n",
       "    .dataframe tbody tr th:only-of-type {\n",
       "        vertical-align: middle;\n",
       "    }\n",
       "\n",
       "    .dataframe tbody tr th {\n",
       "        vertical-align: top;\n",
       "    }\n",
       "\n",
       "    .dataframe thead th {\n",
       "        text-align: right;\n",
       "    }\n",
       "</style>\n",
       "<table border=\"1\" class=\"dataframe\">\n",
       "  <thead>\n",
       "    <tr style=\"text-align: right;\">\n",
       "      <th></th>\n",
       "      <th>Number of players</th>\n",
       "    </tr>\n",
       "  </thead>\n",
       "  <tbody>\n",
       "    <tr>\n",
       "      <th>0</th>\n",
       "      <td>576</td>\n",
       "    </tr>\n",
       "  </tbody>\n",
       "</table>\n",
       "</div>"
      ],
      "text/plain": [
       "   Number of players\n",
       "0                576"
      ]
     },
     "execution_count": 9,
     "metadata": {},
     "output_type": "execute_result"
    }
   ],
   "source": [
    "number_players_df = len(purchase_data_df[\"SN\"].value_counts())\n",
    "\n",
    "players_count = pd.DataFrame ({\"Number of players\":[number_players_df]})\n",
    "players_count"
   ]
  },
  {
   "cell_type": "code",
   "execution_count": null,
   "metadata": {},
   "outputs": [],
   "source": []
  },
  {
   "cell_type": "code",
   "execution_count": 4,
   "metadata": {},
   "outputs": [
    {
     "data": {
      "text/html": [
       "<div>\n",
       "<style scoped>\n",
       "    .dataframe tbody tr th:only-of-type {\n",
       "        vertical-align: middle;\n",
       "    }\n",
       "\n",
       "    .dataframe tbody tr th {\n",
       "        vertical-align: top;\n",
       "    }\n",
       "\n",
       "    .dataframe thead th {\n",
       "        text-align: right;\n",
       "    }\n",
       "</style>\n",
       "<table border=\"1\" class=\"dataframe\">\n",
       "  <thead>\n",
       "    <tr style=\"text-align: right;\">\n",
       "      <th></th>\n",
       "      <th>Unique items</th>\n",
       "      <th>Total Revenue</th>\n",
       "      <th>Total price count</th>\n",
       "      <th>Average price</th>\n",
       "    </tr>\n",
       "  </thead>\n",
       "  <tbody>\n",
       "    <tr>\n",
       "      <th>0</th>\n",
       "      <td>179</td>\n",
       "      <td>2379.77</td>\n",
       "      <td>780</td>\n",
       "      <td>3.050987</td>\n",
       "    </tr>\n",
       "  </tbody>\n",
       "</table>\n",
       "</div>"
      ],
      "text/plain": [
       "   Unique items  Total Revenue  Total price count  Average price\n",
       "0           179        2379.77                780       3.050987"
      ]
     },
     "execution_count": 4,
     "metadata": {},
     "output_type": "execute_result"
    }
   ],
   "source": [
    "#Purchasing Analysis (Total)\n",
    "average_price_df = purchase_data_df [\"Price\"].mean()\n",
    "unique_item_df = len(purchase_data_df[\"Item ID\"].unique())\n",
    "total_price_df = purchase_data_df[\"Price\"].sum()\n",
    "price_count_df = purchase_data_df [\"Price\"].count()\n",
    "\n",
    "summary_table = pd.DataFrame ({\"Unique items\": unique_item_df, \n",
    "\"Total Revenue\": [total_price_df], \"Total price count\" : [price_count_df] , \"Average price\" : [average_price_df]})\n",
    "\n",
    "summary_table"
   ]
  },
  {
   "cell_type": "code",
   "execution_count": 37,
   "metadata": {},
   "outputs": [
    {
     "data": {
      "text/html": [
       "<div>\n",
       "<style scoped>\n",
       "    .dataframe tbody tr th:only-of-type {\n",
       "        vertical-align: middle;\n",
       "    }\n",
       "\n",
       "    .dataframe tbody tr th {\n",
       "        vertical-align: top;\n",
       "    }\n",
       "\n",
       "    .dataframe thead th {\n",
       "        text-align: right;\n",
       "    }\n",
       "</style>\n",
       "<table border=\"1\" class=\"dataframe\">\n",
       "  <thead>\n",
       "    <tr style=\"text-align: right;\">\n",
       "      <th></th>\n",
       "      <th>Purchase Count by Gender</th>\n",
       "      <th>Total Purchase by Gender</th>\n",
       "      <th>Average Purchase by Gender</th>\n",
       "    </tr>\n",
       "    <tr>\n",
       "      <th>Gender</th>\n",
       "      <th></th>\n",
       "      <th></th>\n",
       "      <th></th>\n",
       "    </tr>\n",
       "  </thead>\n",
       "  <tbody>\n",
       "    <tr>\n",
       "      <th>Female</th>\n",
       "      <td>113</td>\n",
       "      <td>361.94</td>\n",
       "      <td>3.203009</td>\n",
       "    </tr>\n",
       "    <tr>\n",
       "      <th>Male</th>\n",
       "      <td>652</td>\n",
       "      <td>1967.64</td>\n",
       "      <td>3.017853</td>\n",
       "    </tr>\n",
       "    <tr>\n",
       "      <th>Other / Non-Disclosed</th>\n",
       "      <td>15</td>\n",
       "      <td>50.19</td>\n",
       "      <td>3.346000</td>\n",
       "    </tr>\n",
       "  </tbody>\n",
       "</table>\n",
       "</div>"
      ],
      "text/plain": [
       "                       Purchase Count by Gender  Total Purchase by Gender  \\\n",
       "Gender                                                                      \n",
       "Female                                      113                    361.94   \n",
       "Male                                        652                   1967.64   \n",
       "Other / Non-Disclosed                        15                     50.19   \n",
       "\n",
       "                       Average Purchase by Gender  \n",
       "Gender                                             \n",
       "Female                                   3.203009  \n",
       "Male                                     3.017853  \n",
       "Other / Non-Disclosed                    3.346000  "
      ]
     },
     "execution_count": 37,
     "metadata": {},
     "output_type": "execute_result"
    }
   ],
   "source": [
    "# Purchasing Analysis (Gender)\n",
    "gender_purchase_total = purchase_data_df.groupby([\"Gender\"]).sum()[\"Price\"].rename(\"Total Purchase by Gender\")\n",
    "gender_average_value = purchase_data_df.groupby([\"Gender\"]).mean()[\"Price\"].rename(\"Average Purchase by Genger\")\n",
    "gender_total_counts = purchase_data_df.groupby([\"Gender\"]).count()[\"Price\"].rename(\"Purchase Count by Gender\")\n",
    "avg_total_per_person = gender_purchase_total / gender_total_counts * 100 \n",
    "\n",
    "#pd.Data Frame ({\"Average total per person\": avg_total_per_person })\n",
    "Puchasing_analysis_gender = pd.DataFrame({\"Purchase Count by Gender\": gender_total_counts, \n",
    "                            \"Total Purchase by Gender\": gender_purchase_total, \n",
    "                            \"Average Purchase by Gender\": gender_average_value})\n",
    "\n",
    "Puchasing_analysis_gender.head()"
   ]
  },
  {
   "cell_type": "code",
   "execution_count": 28,
   "metadata": {},
   "outputs": [
    {
     "data": {
      "text/html": [
       "<div>\n",
       "<style scoped>\n",
       "    .dataframe tbody tr th:only-of-type {\n",
       "        vertical-align: middle;\n",
       "    }\n",
       "\n",
       "    .dataframe tbody tr th {\n",
       "        vertical-align: top;\n",
       "    }\n",
       "\n",
       "    .dataframe thead th {\n",
       "        text-align: right;\n",
       "    }\n",
       "</style>\n",
       "<table border=\"1\" class=\"dataframe\">\n",
       "  <thead>\n",
       "    <tr style=\"text-align: right;\">\n",
       "      <th></th>\n",
       "      <th>Purchase Count</th>\n",
       "      <th>Total Purchase</th>\n",
       "      <th>Average Purchase</th>\n",
       "    </tr>\n",
       "    <tr>\n",
       "      <th>Age</th>\n",
       "      <th></th>\n",
       "      <th></th>\n",
       "      <th></th>\n",
       "    </tr>\n",
       "  </thead>\n",
       "  <tbody>\n",
       "    <tr>\n",
       "      <th>7</th>\n",
       "      <td>9</td>\n",
       "      <td>32.89</td>\n",
       "      <td>3.654444</td>\n",
       "    </tr>\n",
       "    <tr>\n",
       "      <th>8</th>\n",
       "      <td>8</td>\n",
       "      <td>25.97</td>\n",
       "      <td>3.246250</td>\n",
       "    </tr>\n",
       "    <tr>\n",
       "      <th>9</th>\n",
       "      <td>6</td>\n",
       "      <td>18.27</td>\n",
       "      <td>3.045000</td>\n",
       "    </tr>\n",
       "    <tr>\n",
       "      <th>10</th>\n",
       "      <td>9</td>\n",
       "      <td>31.83</td>\n",
       "      <td>3.536667</td>\n",
       "    </tr>\n",
       "    <tr>\n",
       "      <th>11</th>\n",
       "      <td>7</td>\n",
       "      <td>18.79</td>\n",
       "      <td>2.684286</td>\n",
       "    </tr>\n",
       "  </tbody>\n",
       "</table>\n",
       "</div>"
      ],
      "text/plain": [
       "     Purchase Count  Total Purchase  Average Purchase\n",
       "Age                                                  \n",
       "7                 9           32.89          3.654444\n",
       "8                 8           25.97          3.246250\n",
       "9                 6           18.27          3.045000\n",
       "10                9           31.83          3.536667\n",
       "11                7           18.79          2.684286"
      ]
     },
     "execution_count": 28,
     "metadata": {},
     "output_type": "execute_result"
    }
   ],
   "source": [
    "# Purchasing Analysis (age)\n",
    "age_purchase_total = purchase_data_df.groupby([\"Age\"]).sum()[\"Price\"].rename(\"Total Purchase\")\n",
    "age_average_value = purchase_data_df.groupby([\"Age\"]).mean()[\"Price\"].rename(\"Average Purchase\")\n",
    "age_total_counts = purchase_data_df.groupby([\"Age\"]).count()[\"Price\"].rename(\"Purchase Count\")\n",
    "avg_total_per_person_age = age_purchase_total / age_total_counts * 100 \n",
    "\n",
    "#pd.Data Frame ({\"Average total per person by age\": avg_total_per_person_age })\n",
    "gender_data = pd.DataFrame({\"Purchase Count\": age_total_counts, \n",
    "                            \"Total Purchase\": age_purchase_total, \n",
    "                            \"Average Purchase\": age_average_value})\n",
    "\n",
    "gender_data.head()"
   ]
  },
  {
   "cell_type": "code",
   "execution_count": 5,
   "metadata": {},
   "outputs": [
    {
     "data": {
      "text/html": [
       "<div>\n",
       "<style scoped>\n",
       "    .dataframe tbody tr th:only-of-type {\n",
       "        vertical-align: middle;\n",
       "    }\n",
       "\n",
       "    .dataframe tbody tr th {\n",
       "        vertical-align: top;\n",
       "    }\n",
       "\n",
       "    .dataframe thead th {\n",
       "        text-align: right;\n",
       "    }\n",
       "</style>\n",
       "<table border=\"1\" class=\"dataframe\">\n",
       "  <thead>\n",
       "    <tr style=\"text-align: right;\">\n",
       "      <th></th>\n",
       "      <th>Gender</th>\n",
       "      <th>SN</th>\n",
       "      <th>Age</th>\n",
       "    </tr>\n",
       "  </thead>\n",
       "  <tbody>\n",
       "    <tr>\n",
       "      <th>0</th>\n",
       "      <td>Male</td>\n",
       "      <td>Lisim78</td>\n",
       "      <td>20</td>\n",
       "    </tr>\n",
       "    <tr>\n",
       "      <th>1</th>\n",
       "      <td>Male</td>\n",
       "      <td>Lisovynya38</td>\n",
       "      <td>40</td>\n",
       "    </tr>\n",
       "    <tr>\n",
       "      <th>2</th>\n",
       "      <td>Male</td>\n",
       "      <td>Ithergue48</td>\n",
       "      <td>24</td>\n",
       "    </tr>\n",
       "    <tr>\n",
       "      <th>3</th>\n",
       "      <td>Male</td>\n",
       "      <td>Chamassasya86</td>\n",
       "      <td>24</td>\n",
       "    </tr>\n",
       "    <tr>\n",
       "      <th>4</th>\n",
       "      <td>Male</td>\n",
       "      <td>Iskosia90</td>\n",
       "      <td>23</td>\n",
       "    </tr>\n",
       "  </tbody>\n",
       "</table>\n",
       "</div>"
      ],
      "text/plain": [
       "  Gender             SN  Age\n",
       "0   Male        Lisim78   20\n",
       "1   Male    Lisovynya38   40\n",
       "2   Male     Ithergue48   24\n",
       "3   Male  Chamassasya86   24\n",
       "4   Male      Iskosia90   23"
      ]
     },
     "execution_count": 5,
     "metadata": {},
     "output_type": "execute_result"
    }
   ],
   "source": [
    "#Gender Demographics\n",
    "player_demographics = purchase_data_df.loc[:, [\"Gender\", \"SN\", \"Age\"]]\n",
    "player_demographics.head()\n",
    "\n",
    "\n"
   ]
  },
  {
   "cell_type": "code",
   "execution_count": 6,
   "metadata": {},
   "outputs": [
    {
     "data": {
      "text/html": [
       "<div>\n",
       "<style scoped>\n",
       "    .dataframe tbody tr th:only-of-type {\n",
       "        vertical-align: middle;\n",
       "    }\n",
       "\n",
       "    .dataframe tbody tr th {\n",
       "        vertical-align: top;\n",
       "    }\n",
       "\n",
       "    .dataframe thead th {\n",
       "        text-align: right;\n",
       "    }\n",
       "</style>\n",
       "<table border=\"1\" class=\"dataframe\">\n",
       "  <thead>\n",
       "    <tr style=\"text-align: right;\">\n",
       "      <th></th>\n",
       "      <th>Total</th>\n",
       "      <th>Percentage of players</th>\n",
       "    </tr>\n",
       "  </thead>\n",
       "  <tbody>\n",
       "    <tr>\n",
       "      <th>Male</th>\n",
       "      <td>652</td>\n",
       "      <td>113.194444</td>\n",
       "    </tr>\n",
       "    <tr>\n",
       "      <th>Female</th>\n",
       "      <td>113</td>\n",
       "      <td>19.618056</td>\n",
       "    </tr>\n",
       "    <tr>\n",
       "      <th>Other / Non-Disclosed</th>\n",
       "      <td>15</td>\n",
       "      <td>2.604167</td>\n",
       "    </tr>\n",
       "  </tbody>\n",
       "</table>\n",
       "</div>"
      ],
      "text/plain": [
       "                       Total  Percentage of players\n",
       "Male                     652             113.194444\n",
       "Female                   113              19.618056\n",
       "Other / Non-Disclosed     15               2.604167"
      ]
     },
     "execution_count": 6,
     "metadata": {},
     "output_type": "execute_result"
    }
   ],
   "source": [
    "gender_demographics= player_demographics[\"Gender\"].value_counts()\n",
    "gender_demographic_percentages = gender_demographics / number_players_df * 100\n",
    "\n",
    "gender_df = pd.DataFrame({\"Total\" : gender_demographics, \n",
    "                          \"Percentage of players\": gender_demographic_percentages})\n",
    "\n",
    "gender_demographics \n",
    "gender_demographic_percentages\n",
    "gender_df"
   ]
  },
  {
   "cell_type": "code",
   "execution_count": 7,
   "metadata": {},
   "outputs": [
    {
     "data": {
      "text/html": [
       "<div>\n",
       "<style scoped>\n",
       "    .dataframe tbody tr th:only-of-type {\n",
       "        vertical-align: middle;\n",
       "    }\n",
       "\n",
       "    .dataframe tbody tr th {\n",
       "        vertical-align: top;\n",
       "    }\n",
       "\n",
       "    .dataframe thead th {\n",
       "        text-align: right;\n",
       "    }\n",
       "</style>\n",
       "<table border=\"1\" class=\"dataframe\">\n",
       "  <thead>\n",
       "    <tr style=\"text-align: right;\">\n",
       "      <th></th>\n",
       "      <th>Total Count</th>\n",
       "      <th>Percentage of player</th>\n",
       "    </tr>\n",
       "  </thead>\n",
       "  <tbody>\n",
       "    <tr>\n",
       "      <th>20-24</th>\n",
       "      <td>365</td>\n",
       "      <td>63.368056</td>\n",
       "    </tr>\n",
       "    <tr>\n",
       "      <th>15-19</th>\n",
       "      <td>136</td>\n",
       "      <td>23.611111</td>\n",
       "    </tr>\n",
       "    <tr>\n",
       "      <th>25-29</th>\n",
       "      <td>101</td>\n",
       "      <td>17.534722</td>\n",
       "    </tr>\n",
       "    <tr>\n",
       "      <th>30-34</th>\n",
       "      <td>73</td>\n",
       "      <td>12.673611</td>\n",
       "    </tr>\n",
       "    <tr>\n",
       "      <th>35-39</th>\n",
       "      <td>41</td>\n",
       "      <td>7.118056</td>\n",
       "    </tr>\n",
       "  </tbody>\n",
       "</table>\n",
       "</div>"
      ],
      "text/plain": [
       "       Total Count  Percentage of player\n",
       "20-24          365             63.368056\n",
       "15-19          136             23.611111\n",
       "25-29          101             17.534722\n",
       "30-34           73             12.673611\n",
       "35-39           41              7.118056"
      ]
     },
     "execution_count": 7,
     "metadata": {},
     "output_type": "execute_result"
    }
   ],
   "source": [
    "#Age Demographics\n",
    "bins = [0, 9.90, 14.90, 19.90, 24.90, 29.90, 34.90, 39.90, 99999]\n",
    "bin_labels = [\"<10\", \"10-14\", \"15-19\", \"20-24\", \"25-29\", \"30-34\", \"35-39\", \"40+\"]\n",
    "\n",
    "player_demographics[\"Ages in range\"] = pd.cut(player_demographics[\"Age\"], bins, labels = bin_labels)\n",
    "Age_demographics = player_demographics[\"Ages in range\"].value_counts()\n",
    "Age_percentages = Age_demographics / number_players_df * 100\n",
    "\n",
    "Age_demographics_df = pd.DataFrame({\"Total Count\" : Age_demographics, \"Percentage of player\" : Age_percentages})\n",
    "Age_demographics_df.head()"
   ]
  },
  {
   "cell_type": "code",
   "execution_count": 45,
   "metadata": {},
   "outputs": [
    {
     "data": {
      "text/plain": [
       "Item Name\n",
       "Abyssal Shard                     5\n",
       "Aetherius, Boon of the Blessed    5\n",
       "Agatha                            6\n",
       "Alpha                             3\n",
       "Alpha, Oath of Zeal               3\n",
       "Name: Item ID, dtype: int64"
      ]
     },
     "execution_count": 45,
     "metadata": {},
     "output_type": "execute_result"
    }
   ],
   "source": [
    "#Most popular items\n",
    "Most_Popular_items = purchase_data_df.groupby([\"Item Name\"]).count()[\"Item ID\"]\n",
    "Most_Popular_items.head()\n"
   ]
  },
  {
   "cell_type": "code",
   "execution_count": 48,
   "metadata": {},
   "outputs": [
    {
     "data": {
      "text/plain": [
       "Item ID  Item Name         \n",
       "0        Splinter               5.12\n",
       "1        Crucifer              11.77\n",
       "2        Verdict               14.88\n",
       "3        Phantomlight          14.94\n",
       "4        Bloodlord's Fetish     8.50\n",
       "Name: Price, dtype: float64"
      ]
     },
     "execution_count": 48,
     "metadata": {},
     "output_type": "execute_result"
    }
   ],
   "source": [
    "#Most Profitable Items\n",
    "Profitable_items = purchase_data_df.groupby([\"Item ID\",\"Item Name\"]).sum()[\"Price\"]\n",
    "Profitable_items. head()\n"
   ]
  },
  {
   "cell_type": "code",
   "execution_count": 44,
   "metadata": {},
   "outputs": [],
   "source": [
    "#Most popular items\n",
    "#Total_purchase_item = purchase_data_df.groupby([\"Item ID\",\"Item Name\"]).sum()[\"Price\"].rename(\"Total Purchase\")\n",
    "#Item_price = purchase_data_df.value([\"Item ID\", \"Item Name\"])[\"Price\"].rename(\"Item Price\")\n",
    "#Count_item = purchase_data_df.groupby([\"Item ID\",\"Item Name\"]).count()[\"Price\"].rename(\"Purchase Count\")\n",
    "\n",
    "#Popular_items = pd.DataFrame({\"Total Purchase\": Total_purchase_item, \n",
    "                            #\"Item price\": Item_price, \n",
    "                            #\"Purchase counts\": Total_purchase_item })\n",
    "                \n",
    "#Popular_items.head()"
   ]
  },
  {
   "cell_type": "raw",
   "metadata": {},
   "source": [
    "#Most Profitable Items\n",
    "#Total_purchase_item = purchase_data_df.groupby([\"Item Name\"]).sum()[\"Price\"].rename(\"Total Purchase\")\n",
    "#Item_price = purchase_data_df.value([\"Item Name\"]).[\"Price\"].rename(\"Item Price)\n",
    "#Count_item = purchase_data_df.groupby([\"Age\"]).count()[\"Price\"].rename(\"Purchase Count\")\n",
    "\n",
    "#Popular_items = pd.DataFrame({\"Total Purchase\": Total_purchase_item, \n",
    "                            #\"Item price\": Item_price, \n",
    "                            #\"Purchase counts\": Total_purchase_item })\n",
    "                \n",
    "#Popular_items.head()"
   ]
  },
  {
   "cell_type": "code",
   "execution_count": null,
   "metadata": {},
   "outputs": [],
   "source": []
  }
 ],
 "metadata": {
  "kernelspec": {
   "display_name": "Python [conda env:pythonData]",
   "language": "python",
   "name": "conda-env-pythonData-py"
  },
  "language_info": {
   "codemirror_mode": {
    "name": "ipython",
    "version": 3
   },
   "file_extension": ".py",
   "mimetype": "text/x-python",
   "name": "python",
   "nbconvert_exporter": "python",
   "pygments_lexer": "ipython3",
   "version": "3.7.9"
  }
 },
 "nbformat": 4,
 "nbformat_minor": 4
}
